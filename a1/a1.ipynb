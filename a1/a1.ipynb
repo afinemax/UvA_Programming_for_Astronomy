{
 "cells": [
  {
   "cell_type": "markdown",
   "metadata": {},
   "source": [
    "### Programming for A&A:\n",
    "\n",
    "### Assignment 1: Maxwell A. Fine 14880725\n",
    "\n",
    "This is the alternative Assignment"
   ]
  },
  {
   "cell_type": "code",
   "execution_count": 1,
   "metadata": {},
   "outputs": [],
   "source": [
    "# imports\n",
    "import numpy as np\n",
    "import matplotlib.pyplot as plt"
   ]
  },
  {
   "cell_type": "code",
   "execution_count": 93,
   "metadata": {},
   "outputs": [],
   "source": [
    "# functions \n",
    "\n",
    "def read_header(data_file_csv):\n",
    "    '''Reads in the header of the data_file_csv and returns a dictionary which maps the\n",
    "    station name onto the station number. Uses the open python method. Also, Reads in the last-but-one line\n",
    "    of the header with the list of variable names and returns a dictionary to map a variable name to its\n",
    "    position in the list (starting with 0), i.e. to map a variable to the corresponding column index in the\n",
    "    data.\n",
    "\n",
    "    Args:\n",
    "    data_file_csv: str\n",
    "                   filename of the data file to read in, expects a .csv file\n",
    "\n",
    "    Returns:\n",
    "    stn_dict: dict\n",
    "              A dict mapping station names to station numbers\n",
    "\n",
    "    var_dict: dict\n",
    "              A dict map a variable name to its position in the list (starting with 0)\n",
    "    '''\n",
    "\n",
    "    # read in data_file_csv's header\n",
    "    header_lines = []\n",
    "    with open(data_file_csv, 'r') as f:\n",
    "        for line in f:\n",
    "            if line[0] == '#':\n",
    "                header_lines.append(line)\n",
    "            else:\n",
    "                break\n",
    "\n",
    "    # stn dict\n",
    "    # lets map station names to station numbers\n",
    "    # starts after line with '# STN      LON(east)   LAT(north)     ALT(m)  NAME\\n'\n",
    "    # ends after blank line\n",
    "    start_value = '# STN      LON(east)   LAT(north)     ALT(m)  NAME\\n' \n",
    "    start_index = header_lines.index(start_value)\n",
    "    end_index = 55 # figure out better method later \n",
    "\n",
    "    # read in stn names, and stn number data, split along spaces and make dict\n",
    "    stn_data = header_lines[start_index +1 :end_index]\n",
    "    stn_dict = {} # init dict\n",
    "    for line in stn_data:\n",
    "        stn_number = line[2:5] # assuming a 3 digit number only, will fix later\n",
    "        split_line = line.split(maxsplit=5)\n",
    "        stn_name = split_line[-1][0:-2]\n",
    "        stn_dict[stn_name] = stn_number\n",
    "\n",
    "    # var_dict\n",
    "    var_names = header_lines[-2][2:-2].strip().split(',') # makes a list of strings from the 2nd to last line in the header\n",
    "    var_dict = {var_name: index for index, var_name in enumerate(var_names)} # fancy one liner\n",
    "   \n",
    "    return stn_dict, var_dict\n",
    "\n",
    "\n",
    "def read_data(data_file_csv):\n",
    "    '''Reads in all the data (following the header) in data_file_csv, returning it as a\n",
    "numpy arr. Empty fields are set to np.nan. The first column (station number) into an integer. The second column\n",
    "(date) may be kept as a string and be converted or modified later. The remaining\n",
    "values should be converted into floats (they are continuous values, even if rounded\n",
    "to whole numbers).\n",
    "'''\n",
    "    csv_data = np.genfromtxt(data_file_csv, delimiter=',', skip_header=0,)\n",
    "    new_col1 = csv_data[:,0].astype(int) # this works but is really really slow\n",
    "    new_col1 = csv_data[:,1].astype(str) # same ^\n",
    "\n",
    "    return csv_data\n",
    "\n",
    "\n",
    "\n",
    "\n",
    "\n"
   ]
  },
  {
   "cell_type": "code",
   "execution_count": 94,
   "metadata": {},
   "outputs": [],
   "source": [
    "data_file_csv ='KNMI_20200825.txt'\n",
    "\n",
    "stn_dict = read_header(data_file_csv,)\n",
    "\n",
    "csv_data = read_data(data_file_csv)"
   ]
  },
  {
   "cell_type": "code",
   "execution_count": 99,
   "metadata": {},
   "outputs": [
    {
     "data": {
      "text/plain": [
       "dtype('float64')"
      ]
     },
     "execution_count": 99,
     "metadata": {},
     "output_type": "execute_result"
    }
   ],
   "source": [
    "np.dtype(csv_data[0,0])"
   ]
  },
  {
   "cell_type": "code",
   "execution_count": null,
   "metadata": {},
   "outputs": [],
   "source": [
    "# main\n",
    "\n",
    "# read in data\n",
    "\n",
    "# clean data\n",
    "\n",
    "# plot "
   ]
  },
  {
   "cell_type": "code",
   "execution_count": null,
   "metadata": {},
   "outputs": [],
   "source": [
    "ls"
   ]
  },
  {
   "cell_type": "code",
   "execution_count": null,
   "metadata": {},
   "outputs": [],
   "source": []
  }
 ],
 "metadata": {
  "kernelspec": {
   "display_name": "base",
   "language": "python",
   "name": "python3"
  },
  "language_info": {
   "codemirror_mode": {
    "name": "ipython",
    "version": 3
   },
   "file_extension": ".py",
   "mimetype": "text/x-python",
   "name": "python",
   "nbconvert_exporter": "python",
   "pygments_lexer": "ipython3",
   "version": "3.9.12"
  },
  "orig_nbformat": 4
 },
 "nbformat": 4,
 "nbformat_minor": 2
}
